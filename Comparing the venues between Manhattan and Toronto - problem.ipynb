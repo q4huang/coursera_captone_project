{
    "nbformat_minor": 1, 
    "cells": [
        {
            "source": "# Comparing the taste between Manhattan and Toronto", 
            "cell_type": "markdown", 
            "metadata": {
                "collapsed": true
            }
        }, 
        {
            "source": "## Introduction", 
            "cell_type": "markdown", 
            "metadata": {}
        }, 
        {
            "source": "New York and Toronto are the most multicultural and cosmopolitan cities in the north america. They both have diverse cultures, embrace lots of immigrants and welcome many tourists. I would like to explore and compare these two cities in the area of restaurants, and give the suggestions on where to open a restaurant and choices of their tastes in each city. Investors looking forward to open a new restaurant in these two cities would find this project to be useful in finding the good location and what type of restaurant will agree to the taste of the populations.", 
            "cell_type": "markdown", 
            "metadata": {}
        }
    ], 
    "metadata": {
        "kernelspec": {
            "display_name": "Python 3.5 with Spark", 
            "name": "python3", 
            "language": "python3"
        }, 
        "language_info": {
            "mimetype": "text/x-python", 
            "nbconvert_exporter": "python", 
            "version": "3.5.4", 
            "name": "python", 
            "file_extension": ".py", 
            "pygments_lexer": "ipython3", 
            "codemirror_mode": {
                "version": 3, 
                "name": "ipython"
            }
        }
    }, 
    "nbformat": 4
}
