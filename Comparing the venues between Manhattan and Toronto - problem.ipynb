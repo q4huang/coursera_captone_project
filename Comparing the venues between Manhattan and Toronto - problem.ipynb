{
    "nbformat_minor": 1, 
    "cells": [
        {
            "source": "# Comparing the taste between Manhattan and Toronto", 
            "cell_type": "markdown", 
            "metadata": {
                "collapsed": true
            }
        }, 
        {
            "source": "New York and Toronto are the most multicultural and cosmopolitan cities in the world. They both have diverse cultures, embrace lots of immigrants and welcome many tourists. I would like to explore and compare these two cities in the area of eating, and give the suggestions on opening a restaurant.", 
            "cell_type": "markdown", 
            "metadata": {}
        }, 
        {
            "source": "I will scrape location data using BeautifulSoup. The new york data will be scraped from the website \"https://geo.nyu.edu/catalog/nyu_2451_34572\", the toronto data is from wikipedia \"https://en.wikipedia.org/wiki/List_of_postal_codes_of_Canada:_M\". ", 
            "cell_type": "markdown", 
            "metadata": {}
        }, 
        {
            "source": "After finding all the location data including borough, neighborhood and geographical information, I would like to use Foursquare API to search for restaurant in their neighborhoods, analyze the similarity and dissimilarity of their taste. ", 
            "cell_type": "markdown", 
            "metadata": {}
        }, 
        {
            "execution_count": null, 
            "cell_type": "code", 
            "metadata": {}, 
            "outputs": [], 
            "source": ""
        }
    ], 
    "metadata": {
        "kernelspec": {
            "display_name": "Python 3.5 with Spark", 
            "name": "python3", 
            "language": "python3"
        }, 
        "language_info": {
            "mimetype": "text/x-python", 
            "nbconvert_exporter": "python", 
            "version": "3.5.4", 
            "name": "python", 
            "file_extension": ".py", 
            "pygments_lexer": "ipython3", 
            "codemirror_mode": {
                "version": 3, 
                "name": "ipython"
            }
        }
    }, 
    "nbformat": 4
}