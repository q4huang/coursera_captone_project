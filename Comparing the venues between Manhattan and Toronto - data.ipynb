{
    "nbformat_minor": 1, 
    "cells": [
        {
            "source": "# Comparing the taste between Manhattan and Toronto", 
            "cell_type": "markdown", 
            "metadata": {
                "collapsed": true
            }
        }, 
        {
            "source": "## Introduction", 
            "cell_type": "markdown", 
            "metadata": {}
        }, 
        {
            "source": "New York and Toronto are the most multicultural and cosmopolitan cities in the north america. They both have diverse cultures, embrace lots of immigrants and welcome many tourists. I would like to explore and compare these two cities in the area of eating, and give the suggestions on opening a restaurant.", 
            "cell_type": "markdown", 
            "metadata": {}
        }, 
        {
            "source": "## Data", 
            "cell_type": "markdown", 
            "metadata": {}
        }, 
        {
            "source": "I will use BeautifulSoup to scrape neighborhood data from internet. The new york data is from \"https://geo.nyu.edu/catalog/nyu_2451_34572\"; The toronto data is from \"https://en.wikipedia.org/wiki/List_of_postal_codes_of_Canada:_M. Then I will explore their neighborhood and summerize food related shops by Foursquare API, and compare the similarities and dissimilarites in the taste.", 
            "cell_type": "markdown", 
            "metadata": {}
        }
    ], 
    "metadata": {
        "kernelspec": {
            "display_name": "Python 3.5 with Spark", 
            "name": "python3", 
            "language": "python3"
        }, 
        "language_info": {
            "mimetype": "text/x-python", 
            "nbconvert_exporter": "python", 
            "version": "3.5.4", 
            "name": "python", 
            "file_extension": ".py", 
            "pygments_lexer": "ipython3", 
            "codemirror_mode": {
                "version": 3, 
                "name": "ipython"
            }
        }
    }, 
    "nbformat": 4
}