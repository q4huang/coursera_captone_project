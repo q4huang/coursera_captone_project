{
    "nbformat_minor": 1, 
    "cells": [
        {
            "source": "# Comparing the taste between Manhattan and Toronto", 
            "cell_type": "markdown", 
            "metadata": {
                "collapsed": true
            }
        }, 
        {
            "source": "## Introduction", 
            "cell_type": "markdown", 
            "metadata": {}
        }, 
        {
            "source": "New York and Toronto are the most multicultural and cosmopolitan cities in the north america. They both have diverse cultures, embrace lots of immigrants and welcome many tourists. I would like to explore and compare these two cities in the area of restaurants, and give the suggestions on where to open a restaurant and choices of their tastes in each city. Investors looking forward to open a new restaurant in these two cities would find this project to be useful in finding the good location and what type of restaurant will agree to the taste of the populations.", 
            "cell_type": "markdown", 
            "metadata": {}
        }, 
        {
            "source": "## Data", 
            "cell_type": "markdown", 
            "metadata": {}
        }, 
        {
            "source": "I will use BeautifulSoup to scrape neighborhood data from internet. The new york data is from \"https://geo.nyu.edu/catalog/nyu_2451_34572\"; The toronto data is from \"https://en.wikipedia.org/wiki/List_of_postal_codes_of_Canada:_M. Then I will explore their neighborhood information and summerize the most popular restaurants in each neighborhood using Foursquare API. After cleaning and analyzing dataframes, I will suggest opening a new restaurant on neighborhoods with few choices of good restaurant. Based on the tastes of each cities, several popular tastes of cuisine would be suggested.", 
            "cell_type": "markdown", 
            "metadata": {}
        }
    ], 
    "metadata": {
        "kernelspec": {
            "display_name": "Python 3.5 with Spark", 
            "name": "python3", 
            "language": "python3"
        }, 
        "language_info": {
            "mimetype": "text/x-python", 
            "nbconvert_exporter": "python", 
            "version": "3.5.4", 
            "name": "python", 
            "file_extension": ".py", 
            "pygments_lexer": "ipython3", 
            "codemirror_mode": {
                "version": 3, 
                "name": "ipython"
            }
        }
    }, 
    "nbformat": 4
}
