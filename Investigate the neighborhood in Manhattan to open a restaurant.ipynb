{
 "cells": [
  {
   "cell_type": "markdown",
   "metadata": {
    "collapsed": true
   },
   "source": [
    "# Investigate the neighborhood in Manhattan to open a restaurant"
   ]
  },
  {
   "cell_type": "markdown",
   "metadata": {},
   "source": [
    "## Introduction"
   ]
  },
  {
   "cell_type": "markdown",
   "metadata": {},
   "source": [
    "Manhattan is the most multicultural and cosmopolitan city in the north America. It has diverse cultures, embrace lots of immigrants and welcome many tourists. I would like to explore Manhattan in the area of restaurants and give the suggestions on where to open a restaurant and choices of their tastes in each city. Investors looking forward to opening a new restaurant in Manhattan would find this project to be useful in finding the good neighborhood and what type of restaurant will agree to the taste of the populations."
   ]
  },
  {
   "cell_type": "markdown",
   "metadata": {},
   "source": [
    "## Data"
   ]
  },
  {
   "cell_type": "markdown",
   "metadata": {},
   "source": [
    "The New York data is downloaded from \\\"https://geo.nyu.edu/catalog/nyu_2451_34572\\\". I will organize the borough, neighborhood and location information into dataframe. Then I will explore the neighborhood information and summarize the most popular restaurants in the neighborhood using Foursquare API. After cleaning and analyzing dataframe, I will suggest opening a new restaurant on neighborhoods with few choices of good restaurant. Based on the tastes of Manhattan, several popular tastes of cuisine would be suggested."
   ]
  },
  {
   "cell_type": "markdown",
   "metadata": {},
   "source": [
    "## Preprocessing"
   ]
  },
  {
   "cell_type": "code",
   "execution_count": 431,
   "metadata": {},
   "outputs": [
    {
     "name": "stdout",
     "output_type": "stream",
     "text": [
      "Requirement already satisfied: geopy in c:\\anaconda\\lib\\site-packages (1.17.0)\n",
      "Requirement already satisfied: geographiclib<2,>=1.49 in c:\\anaconda\\lib\\site-packages (from geopy) (1.49)\n",
      "Requirement already satisfied: folium in c:\\anaconda\\lib\\site-packages (0.6.0)\n",
      "Requirement already satisfied: jinja2 in c:\\anaconda\\lib\\site-packages (from folium) (2.10)\n",
      "Requirement already satisfied: numpy in c:\\anaconda\\lib\\site-packages (from folium) (1.14.3)\n",
      "Requirement already satisfied: six in c:\\anaconda\\lib\\site-packages (from folium) (1.11.0)\n",
      "Requirement already satisfied: branca>=0.3.0 in c:\\anaconda\\lib\\site-packages (from folium) (0.3.0)\n",
      "Requirement already satisfied: requests in c:\\anaconda\\lib\\site-packages (from folium) (2.18.4)\n",
      "Requirement already satisfied: MarkupSafe>=0.23 in c:\\anaconda\\lib\\site-packages (from jinja2->folium) (1.0)\n",
      "Requirement already satisfied: chardet<3.1.0,>=3.0.2 in c:\\anaconda\\lib\\site-packages (from requests->folium) (3.0.4)\n",
      "Requirement already satisfied: idna<2.7,>=2.5 in c:\\anaconda\\lib\\site-packages (from requests->folium) (2.6)\n",
      "Requirement already satisfied: urllib3<1.23,>=1.21.1 in c:\\anaconda\\lib\\site-packages (from requests->folium) (1.22)\n",
      "Requirement already satisfied: certifi>=2017.4.17 in c:\\anaconda\\lib\\site-packages (from requests->folium) (2018.4.16)\n",
      "Requirement already satisfied: folium in c:\\anaconda\\lib\\site-packages (0.6.0)\n",
      "Requirement already satisfied: six in c:\\anaconda\\lib\\site-packages (from folium) (1.11.0)\n",
      "Requirement already satisfied: branca>=0.3.0 in c:\\anaconda\\lib\\site-packages (from folium) (0.3.0)\n",
      "Requirement already satisfied: requests in c:\\anaconda\\lib\\site-packages (from folium) (2.18.4)\n",
      "Requirement already satisfied: jinja2 in c:\\anaconda\\lib\\site-packages (from folium) (2.10)\n",
      "Requirement already satisfied: numpy in c:\\anaconda\\lib\\site-packages (from folium) (1.14.3)\n",
      "Requirement already satisfied: chardet<3.1.0,>=3.0.2 in c:\\anaconda\\lib\\site-packages (from requests->folium) (3.0.4)\n",
      "Requirement already satisfied: idna<2.7,>=2.5 in c:\\anaconda\\lib\\site-packages (from requests->folium) (2.6)\n",
      "Requirement already satisfied: urllib3<1.23,>=1.21.1 in c:\\anaconda\\lib\\site-packages (from requests->folium) (1.22)\n",
      "Requirement already satisfied: certifi>=2017.4.17 in c:\\anaconda\\lib\\site-packages (from requests->folium) (2018.4.16)\n",
      "Requirement already satisfied: MarkupSafe>=0.23 in c:\\anaconda\\lib\\site-packages (from jinja2->folium) (1.0)\n"
     ]
    }
   ],
   "source": [
    "!pip install geopy\n",
    "\n",
    "!pip install folium\n",
    "\n",
    "# library to handle JSON files\n",
    "import json\n",
    "\n",
    "# library for data analsysis\n",
    "import pandas as pd\n",
    "\n",
    "# convert an address into latitude and longitude values\n",
    "from geopy.geocoders import Nominatim\n",
    "\n",
    "# map rendering library\n",
    "import folium \n",
    "\n",
    "# library to handle data in a vectorized manner\n",
    "import numpy as np\n",
    "\n",
    "# library to handle requests\n",
    "import requests \n",
    "\n",
    "# visualize the resulting clusters\n",
    "!pip install folium\n",
    "import folium # map rendering library\n",
    "import matplotlib.cm as cm\n",
    "import matplotlib.colors as colors\n",
    "\n",
    "# library to find coordinators\n",
    "import geocoder\n",
    "\n",
    "# library to draw picture\n",
    "% matplotlib inline\n",
    "import matplotlib as mpl\n",
    "import matplotlib.pyplot as plt\n",
    "import seaborn as sns"
   ]
  },
  {
   "cell_type": "markdown",
   "metadata": {},
   "source": [
    "Download New York data"
   ]
  },
  {
   "cell_type": "code",
   "execution_count": 121,
   "metadata": {},
   "outputs": [],
   "source": [
    "with open(r'C:\\Users\\qian\\Downloads\\nyu_2451_34572-geojson.json') as json_data:\n",
    "    newyork_data = json.load(json_data)\n",
    "neighborhoods_data = newyork_data['features']"
   ]
  },
  {
   "cell_type": "markdown",
   "metadata": {},
   "source": [
    "Tranform the data into a pandas dataframe"
   ]
  },
  {
   "cell_type": "code",
   "execution_count": 122,
   "metadata": {},
   "outputs": [],
   "source": [
    "# define the dataframe columns\n",
    "column_names = ['Borough', 'Neighborhood', 'Latitude', 'Longitude'] \n",
    "\n",
    "# instantiate the dataframe\n",
    "neighborhoods = pd.DataFrame(columns=column_names)"
   ]
  },
  {
   "cell_type": "markdown",
   "metadata": {},
   "source": [
    "Then let's loop through the data and fill the dataframe one row at a time"
   ]
  },
  {
   "cell_type": "code",
   "execution_count": 123,
   "metadata": {},
   "outputs": [],
   "source": [
    "for data in neighborhoods_data:\n",
    "    borough = neighborhood_name = data['properties']['borough'] \n",
    "    neighborhood_name = data['properties']['name']\n",
    "        \n",
    "    neighborhood_latlon = data['geometry']['coordinates']\n",
    "    neighborhood_lat = neighborhood_latlon[1]\n",
    "    neighborhood_lon = neighborhood_latlon[0]\n",
    "    \n",
    "    neighborhoods = neighborhoods.append({'Borough': borough,\n",
    "                                          'Neighborhood': neighborhood_name,\n",
    "                                          'Latitude': neighborhood_lat,\n",
    "                                          'Longitude': neighborhood_lon}, ignore_index=True)"
   ]
  },
  {
   "cell_type": "markdown",
   "metadata": {},
   "source": [
    "Summerize manhattan data"
   ]
  },
  {
   "cell_type": "code",
   "execution_count": 124,
   "metadata": {},
   "outputs": [
    {
     "data": {
      "text/plain": [
       "(40, 4)"
      ]
     },
     "execution_count": 124,
     "metadata": {},
     "output_type": "execute_result"
    }
   ],
   "source": [
    "manhattan_data = neighborhoods[neighborhoods['Borough'] == 'Manhattan'].reset_index(drop=True)\n",
    "manhattan_data.shape"
   ]
  },
  {
   "cell_type": "markdown",
   "metadata": {},
   "source": [
    "## Exploration Using Foursquare API"
   ]
  },
  {
   "cell_type": "markdown",
   "metadata": {},
   "source": [
    "Obtain Foursquare credentials and version"
   ]
  },
  {
   "cell_type": "code",
   "execution_count": 125,
   "metadata": {},
   "outputs": [],
   "source": [
    "# @hidden_cell\n",

   ]
  },
  {
   "cell_type": "markdown",
   "metadata": {},
   "source": [
    "### Explore nearby venues"
   ]
  },
  {
   "cell_type": "code",
   "execution_count": 126,
   "metadata": {},
   "outputs": [],
   "source": [
    "# get nearby venues\n",
    "def getNearbyVenues(names, latitudes, longitudes, radius=500):\n",
    "    \n",
    "    venues_list=[]\n",
    "    for name, lat, lng in zip(names, latitudes, longitudes):\n",
    "        print(name)\n",
    "            \n",
    "        # create the API request URL\n",
    "        url = 'https://api.foursquare.com/v2/venues/explore?&client_id={}&client_secret={}&v={}&ll={},{}&radius={}&limit={}'.format(\n",
    "            CLIENT_ID, \n",
    "            CLIENT_SECRET, \n",
    "            VERSION, \n",
    "            lat, \n",
    "            lng, \n",
    "            radius, \n",
    "            100)\n",
    "            \n",
    "        # make the GET request\n",
    "        results = requests.get(url).json()[\"response\"]['groups'][0]['items']\n",
    "        \n",
    "        # return only relevant information for each nearby venue\n",
    "        venues_list.append([(\n",
    "            name, \n",
    "            lat, \n",
    "            lng, \n",
    "            v['venue']['name'], \n",
    "            v['venue']['location']['lat'], \n",
    "            v['venue']['location']['lng'],  \n",
    "            v['venue']['categories'][0]['name']) for v in results])\n",
    "\n",
    "    nearby_venues = pd.DataFrame([item for venue_list in venues_list for item in venue_list])\n",
    "    nearby_venues.columns = ['Neighborhood', \n",
    "                  'Neighborhood Latitude', \n",
    "                  'Neighborhood Longitude', \n",
    "                  'Venue', \n",
    "                  'Venue Latitude', \n",
    "                  'Venue Longitude', \n",
    "                  'Venue Category']\n",
    "    \n",
    "    return(nearby_venues)"
   ]
  },
  {
   "cell_type": "code",
   "execution_count": 127,
   "metadata": {},
   "outputs": [
    {
     "name": "stdout",
     "output_type": "stream",
     "text": [
      "Marble Hill\n",
      "Chinatown\n",
      "Washington Heights\n",
      "Inwood\n",
      "Hamilton Heights\n",
      "Manhattanville\n",
      "Central Harlem\n",
      "East Harlem\n",
      "Upper East Side\n",
      "Yorkville\n",
      "Lenox Hill\n",
      "Roosevelt Island\n",
      "Upper West Side\n",
      "Lincoln Square\n",
      "Clinton\n",
      "Midtown\n",
      "Murray Hill\n",
      "Chelsea\n",
      "Greenwich Village\n",
      "East Village\n",
      "Lower East Side\n",
      "Tribeca\n",
      "Little Italy\n",
      "Soho\n",
      "West Village\n",
      "Manhattan Valley\n",
      "Morningside Heights\n",
      "Gramercy\n",
      "Battery Park City\n",
      "Financial District\n",
      "Carnegie Hill\n",
      "Noho\n",
      "Civic Center\n",
      "Midtown South\n",
      "Sutton Place\n",
      "Turtle Bay\n",
      "Tudor City\n",
      "Stuyvesant Town\n",
      "Flatiron\n",
      "Hudson Yards\n"
     ]
    }
   ],
   "source": [
    "# explore downtown manhattan data\n",
    "\n",
    "manhattan_venues=getNearbyVenues(names=manhattan_data['Neighborhood'],\n",
    "                                latitudes=manhattan_data['Latitude'],\n",
    "                                longitudes=manhattan_data['Longitude']\n",
    "                                )"
   ]
  },
  {
   "cell_type": "markdown",
   "metadata": {},
   "source": [
    "Summarize manhattan restaurant dataframe"
   ]
  },
  {
   "cell_type": "code",
   "execution_count": 128,
   "metadata": {},
   "outputs": [
    {
     "data": {
      "text/plain": [
       "74"
      ]
     },
     "execution_count": 128,
     "metadata": {},
     "output_type": "execute_result"
    }
   ],
   "source": [
    "manhattan_restaurant = manhattan_venues[manhattan_venues['Venue Category'].str.contains('Restaurant')].reset_index(drop = True)\n",
    "manhattan_restaurant.rename(columns = {'Venue':'Restaurant','Venue Latitude':'Restaurant Latitude','Venue Longitude':'Restaurant Longitude','Venue Category':'Restaurant Category'}, inplace = True)\n",
    "manhattan_restaurants = manhattan_restaurant[manhattan_restaurant['Restaurant Category'] != 'Restaurant']\n",
    "len(manhattan_restaurants['Restaurant Category'].unique())"
   ]
  },
  {
   "cell_type": "markdown",
   "metadata": {},
   "source": [
    "### Numbers of Restaurants in Each Neighborhoods"
   ]
  },
  {
   "cell_type": "markdown",
   "metadata": {},
   "source": [
    "Classify if the venue is restaurant type"
   ]
  },
  {
   "cell_type": "code",
   "execution_count": 391,
   "metadata": {},
   "outputs": [
    {
     "data": {
      "text/html": [
       "<div>\n",
       "<style scoped>\n",
       "    .dataframe tbody tr th:only-of-type {\n",
       "        vertical-align: middle;\n",
       "    }\n",
       "\n",
       "    .dataframe tbody tr th {\n",
       "        vertical-align: top;\n",
       "    }\n",
       "\n",
       "    .dataframe thead th {\n",
       "        text-align: right;\n",
       "    }\n",
       "</style>\n",
       "<table border=\"1\" class=\"dataframe\">\n",
       "  <thead>\n",
       "    <tr style=\"text-align: right;\">\n",
       "      <th></th>\n",
       "      <th>Neighborhood</th>\n",
       "      <th>Neighborhood Latitude</th>\n",
       "      <th>Neighborhood Longitude</th>\n",
       "      <th>Venue</th>\n",
       "      <th>Venue Latitude</th>\n",
       "      <th>Venue Longitude</th>\n",
       "      <th>Venue Category</th>\n",
       "      <th>Restaurant Venue</th>\n",
       "    </tr>\n",
       "  </thead>\n",
       "  <tbody>\n",
       "    <tr>\n",
       "      <th>0</th>\n",
       "      <td>Marble Hill</td>\n",
       "      <td>40.876551</td>\n",
       "      <td>-73.91066</td>\n",
       "      <td>Arturo's</td>\n",
       "      <td>40.874412</td>\n",
       "      <td>-73.910271</td>\n",
       "      <td>Pizza Place</td>\n",
       "      <td>False</td>\n",
       "    </tr>\n",
       "    <tr>\n",
       "      <th>1</th>\n",
       "      <td>Marble Hill</td>\n",
       "      <td>40.876551</td>\n",
       "      <td>-73.91066</td>\n",
       "      <td>Bikram Yoga</td>\n",
       "      <td>40.876844</td>\n",
       "      <td>-73.906204</td>\n",
       "      <td>Yoga Studio</td>\n",
       "      <td>False</td>\n",
       "    </tr>\n",
       "    <tr>\n",
       "      <th>2</th>\n",
       "      <td>Marble Hill</td>\n",
       "      <td>40.876551</td>\n",
       "      <td>-73.91066</td>\n",
       "      <td>Tibbett Diner</td>\n",
       "      <td>40.880404</td>\n",
       "      <td>-73.908937</td>\n",
       "      <td>Diner</td>\n",
       "      <td>False</td>\n",
       "    </tr>\n",
       "    <tr>\n",
       "      <th>3</th>\n",
       "      <td>Marble Hill</td>\n",
       "      <td>40.876551</td>\n",
       "      <td>-73.91066</td>\n",
       "      <td>Starbucks</td>\n",
       "      <td>40.877531</td>\n",
       "      <td>-73.905582</td>\n",
       "      <td>Coffee Shop</td>\n",
       "      <td>False</td>\n",
       "    </tr>\n",
       "    <tr>\n",
       "      <th>4</th>\n",
       "      <td>Marble Hill</td>\n",
       "      <td>40.876551</td>\n",
       "      <td>-73.91066</td>\n",
       "      <td>Dunkin' Donuts</td>\n",
       "      <td>40.876993</td>\n",
       "      <td>-73.906507</td>\n",
       "      <td>Donut Shop</td>\n",
       "      <td>False</td>\n",
       "    </tr>\n",
       "  </tbody>\n",
       "</table>\n",
       "</div>"
      ],
      "text/plain": [
       "  Neighborhood  Neighborhood Latitude  Neighborhood Longitude           Venue  \\\n",
       "0  Marble Hill              40.876551               -73.91066        Arturo's   \n",
       "1  Marble Hill              40.876551               -73.91066     Bikram Yoga   \n",
       "2  Marble Hill              40.876551               -73.91066   Tibbett Diner   \n",
       "3  Marble Hill              40.876551               -73.91066       Starbucks   \n",
       "4  Marble Hill              40.876551               -73.91066  Dunkin' Donuts   \n",
       "\n",
       "   Venue Latitude  Venue Longitude Venue Category  Restaurant Venue  \n",
       "0       40.874412       -73.910271    Pizza Place             False  \n",
       "1       40.876844       -73.906204    Yoga Studio             False  \n",
       "2       40.880404       -73.908937          Diner             False  \n",
       "3       40.877531       -73.905582    Coffee Shop             False  \n",
       "4       40.876993       -73.906507     Donut Shop             False  "
      ]
     },
     "execution_count": 391,
     "metadata": {},
     "output_type": "execute_result"
    }
   ],
   "source": [
    "manhattan_venues['Restaurant Venue'] = manhattan_venues['Venue Category'].str.contains('Restaurant')\n",
    "manhattan_venues.head()"
   ]
  },
  {
   "cell_type": "markdown",
   "metadata": {},
   "source": [
    "Summarize the number of venue restaurants in each neighborhood"
   ]
  },
  {
   "cell_type": "code",
   "execution_count": 392,
   "metadata": {},
   "outputs": [
    {
     "data": {
      "text/html": [
       "<div>\n",
       "<style scoped>\n",
       "    .dataframe tbody tr th:only-of-type {\n",
       "        vertical-align: middle;\n",
       "    }\n",
       "\n",
       "    .dataframe tbody tr th {\n",
       "        vertical-align: top;\n",
       "    }\n",
       "\n",
       "    .dataframe thead th {\n",
       "        text-align: right;\n",
       "    }\n",
       "</style>\n",
       "<table border=\"1\" class=\"dataframe\">\n",
       "  <thead>\n",
       "    <tr style=\"text-align: right;\">\n",
       "      <th></th>\n",
       "      <th>Number of Good Restaurants</th>\n",
       "    </tr>\n",
       "    <tr>\n",
       "      <th>Neighborhood</th>\n",
       "      <th></th>\n",
       "    </tr>\n",
       "  </thead>\n",
       "  <tbody>\n",
       "    <tr>\n",
       "      <th>Battery Park City</th>\n",
       "      <td>10.0</td>\n",
       "    </tr>\n",
       "    <tr>\n",
       "      <th>Carnegie Hill</th>\n",
       "      <td>23.0</td>\n",
       "    </tr>\n",
       "    <tr>\n",
       "      <th>Central Harlem</th>\n",
       "      <td>15.0</td>\n",
       "    </tr>\n",
       "    <tr>\n",
       "      <th>Chelsea</th>\n",
       "      <td>27.0</td>\n",
       "    </tr>\n",
       "    <tr>\n",
       "      <th>Chinatown</th>\n",
       "      <td>42.0</td>\n",
       "    </tr>\n",
       "  </tbody>\n",
       "</table>\n",
       "</div>"
      ],
      "text/plain": [
       "                   Number of Good Restaurants\n",
       "Neighborhood                                 \n",
       "Battery Park City                        10.0\n",
       "Carnegie Hill                            23.0\n",
       "Central Harlem                           15.0\n",
       "Chelsea                                  27.0\n",
       "Chinatown                                42.0"
      ]
     },
     "execution_count": 392,
     "metadata": {},
     "output_type": "execute_result"
    }
   ],
   "source": [
    "manhattan_neighborhood_restaurant_count = pd.DataFrame(manhattan_venues.groupby(['Neighborhood'])['Restaurant Venue'].sum())\n",
    "manhattan_neighborhood_restaurant_count.columns = ['Number of Good Restaurants']\n",
    "manhattan_neighborhood_restaurant_count.head()"
   ]
  },
  {
   "cell_type": "markdown",
   "metadata": {},
   "source": [
    "Summerize number of venues in each neighborhood"
   ]
  },
  {
   "cell_type": "code",
   "execution_count": 390,
   "metadata": {},
   "outputs": [
    {
     "data": {
      "text/html": [
       "<div>\n",
       "<style scoped>\n",
       "    .dataframe tbody tr th:only-of-type {\n",
       "        vertical-align: middle;\n",
       "    }\n",
       "\n",
       "    .dataframe tbody tr th {\n",
       "        vertical-align: top;\n",
       "    }\n",
       "\n",
       "    .dataframe thead th {\n",
       "        text-align: right;\n",
       "    }\n",
       "</style>\n",
       "<table border=\"1\" class=\"dataframe\">\n",
       "  <thead>\n",
       "    <tr style=\"text-align: right;\">\n",
       "      <th></th>\n",
       "      <th>Number of Venues</th>\n",
       "    </tr>\n",
       "    <tr>\n",
       "      <th>Neighborhood</th>\n",
       "      <th></th>\n",
       "    </tr>\n",
       "  </thead>\n",
       "  <tbody>\n",
       "    <tr>\n",
       "      <th>Battery Park City</th>\n",
       "      <td>96</td>\n",
       "    </tr>\n",
       "    <tr>\n",
       "      <th>Carnegie Hill</th>\n",
       "      <td>100</td>\n",
       "    </tr>\n",
       "    <tr>\n",
       "      <th>Central Harlem</th>\n",
       "      <td>44</td>\n",
       "    </tr>\n",
       "    <tr>\n",
       "      <th>Chelsea</th>\n",
       "      <td>100</td>\n",
       "    </tr>\n",
       "    <tr>\n",
       "      <th>Chinatown</th>\n",
       "      <td>100</td>\n",
       "    </tr>\n",
       "  </tbody>\n",
       "</table>\n",
       "</div>"
      ],
      "text/plain": [
       "                   Number of Venues\n",
       "Neighborhood                       \n",
       "Battery Park City                96\n",
       "Carnegie Hill                   100\n",
       "Central Harlem                   44\n",
       "Chelsea                         100\n",
       "Chinatown                       100"
      ]
     },
     "execution_count": 390,
     "metadata": {},
     "output_type": "execute_result"
    }
   ],
   "source": [
    "manhattan_neighborhood_venue_count = manhattan_venues[['Neighborhood', 'Venue']].groupby('Neighborhood').count()\n",
    "manhattan_neighborhood_venue_count.rename(columns = {'Venue':'Number of Venues'}, inplace = True)\n",
    "manhattan_neighborhood_venue_count.head()                                  "
   ]
  },
  {
   "cell_type": "markdown",
   "metadata": {},
   "source": [
    "Compare the number of restaurant vs the number of venues in each Neighborhood"
   ]
  },
  {
   "cell_type": "code",
   "execution_count": 411,
   "metadata": {},
   "outputs": [
    {
     "data": {
      "text/html": [
       "<div>\n",
       "<style scoped>\n",
       "    .dataframe tbody tr th:only-of-type {\n",
       "        vertical-align: middle;\n",
       "    }\n",
       "\n",
       "    .dataframe tbody tr th {\n",
       "        vertical-align: top;\n",
       "    }\n",
       "\n",
       "    .dataframe thead th {\n",
       "        text-align: right;\n",
       "    }\n",
       "</style>\n",
       "<table border=\"1\" class=\"dataframe\">\n",
       "  <thead>\n",
       "    <tr style=\"text-align: right;\">\n",
       "      <th></th>\n",
       "      <th>Number of Venues</th>\n",
       "      <th>Number of Good Restaurants</th>\n",
       "    </tr>\n",
       "    <tr>\n",
       "      <th>Neighborhood</th>\n",
       "      <th></th>\n",
       "      <th></th>\n",
       "    </tr>\n",
       "  </thead>\n",
       "  <tbody>\n",
       "    <tr>\n",
       "      <th>Battery Park City</th>\n",
       "      <td>96</td>\n",
       "      <td>10.0</td>\n",
       "    </tr>\n",
       "    <tr>\n",
       "      <th>Carnegie Hill</th>\n",
       "      <td>100</td>\n",
       "      <td>23.0</td>\n",
       "    </tr>\n",
       "    <tr>\n",
       "      <th>Central Harlem</th>\n",
       "      <td>44</td>\n",
       "      <td>15.0</td>\n",
       "    </tr>\n",
       "    <tr>\n",
       "      <th>Chelsea</th>\n",
       "      <td>100</td>\n",
       "      <td>27.0</td>\n",
       "    </tr>\n",
       "    <tr>\n",
       "      <th>Chinatown</th>\n",
       "      <td>100</td>\n",
       "      <td>42.0</td>\n",
       "    </tr>\n",
       "  </tbody>\n",
       "</table>\n",
       "</div>"
      ],
      "text/plain": [
       "                   Number of Venues  Number of Good Restaurants\n",
       "Neighborhood                                                   \n",
       "Battery Park City                96                        10.0\n",
       "Carnegie Hill                   100                        23.0\n",
       "Central Harlem                   44                        15.0\n",
       "Chelsea                         100                        27.0\n",
       "Chinatown                       100                        42.0"
      ]
     },
     "execution_count": 411,
     "metadata": {},
     "output_type": "execute_result"
    }
   ],
   "source": [
    "manhattan_neighborhood_compare = pd.concat([manhattan_neighborhood_venue_count, manhattan_neighborhood_restaurant_count], axis = 1)\n",
    "manhattan_neighborhood_compare.head()"
   ]
  },
  {
   "cell_type": "code",
   "execution_count": 412,
   "metadata": {},
   "outputs": [
    {
     "data": {
      "text/plain": [
       "<matplotlib.axes._subplots.AxesSubplot at 0xda6a128>"
      ]
     },
     "execution_count": 412,
     "metadata": {},
     "output_type": "execute_result"
    },
    {
     "data": {
      "image/png": "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\n",
      "text/plain": [
       "<Figure size 432x288 with 1 Axes>"
      ]
     },
     "metadata": {},
     "output_type": "display_data"
    }
   ],
   "source": [
    "sns.regplot(x = manhattan_neighborhood_compare['Number of Venues'] , y = manhattan_neighborhood_compare['Number of Good Restaurants'])"
   ]
  },
  {
   "cell_type": "markdown",
   "metadata": {},
   "source": [
    "In summary, the number of good restaurants increase linearly with the number of Venues until the set point (100 venues). So it is interesting to investigate the distribution of number of Good Restaurant when the Venues are 100, because there is much large possibility that there are more people living or visiting these areas."
   ]
  },
  {
   "cell_type": "code",
   "execution_count": 413,
   "metadata": {},
   "outputs": [
    {
     "data": {
      "text/html": [
       "<div>\n",
       "<style scoped>\n",
       "    .dataframe tbody tr th:only-of-type {\n",
       "        vertical-align: middle;\n",
       "    }\n",
       "\n",
       "    .dataframe tbody tr th {\n",
       "        vertical-align: top;\n",
       "    }\n",
       "\n",
       "    .dataframe thead th {\n",
       "        text-align: right;\n",
       "    }\n",
       "</style>\n",
       "<table border=\"1\" class=\"dataframe\">\n",
       "  <thead>\n",
       "    <tr style=\"text-align: right;\">\n",
       "      <th></th>\n",
       "      <th>Number of Venues</th>\n",
       "      <th>Number of Good Restaurants</th>\n",
       "    </tr>\n",
       "    <tr>\n",
       "      <th>Neighborhood</th>\n",
       "      <th></th>\n",
       "      <th></th>\n",
       "    </tr>\n",
       "  </thead>\n",
       "  <tbody>\n",
       "    <tr>\n",
       "      <th>Carnegie Hill</th>\n",
       "      <td>100</td>\n",
       "      <td>23.0</td>\n",
       "    </tr>\n",
       "    <tr>\n",
       "      <th>Chelsea</th>\n",
       "      <td>100</td>\n",
       "      <td>27.0</td>\n",
       "    </tr>\n",
       "    <tr>\n",
       "      <th>Chinatown</th>\n",
       "      <td>100</td>\n",
       "      <td>42.0</td>\n",
       "    </tr>\n",
       "    <tr>\n",
       "      <th>Civic Center</th>\n",
       "      <td>100</td>\n",
       "      <td>25.0</td>\n",
       "    </tr>\n",
       "    <tr>\n",
       "      <th>Clinton</th>\n",
       "      <td>100</td>\n",
       "      <td>25.0</td>\n",
       "    </tr>\n",
       "  </tbody>\n",
       "</table>\n",
       "</div>"
      ],
      "text/plain": [
       "               Number of Venues  Number of Good Restaurants\n",
       "Neighborhood                                               \n",
       "Carnegie Hill               100                        23.0\n",
       "Chelsea                     100                        27.0\n",
       "Chinatown                   100                        42.0\n",
       "Civic Center                100                        25.0\n",
       "Clinton                     100                        25.0"
      ]
     },
     "execution_count": 413,
     "metadata": {},
     "output_type": "execute_result"
    }
   ],
   "source": [
    "manhattan_popular_neighborhood = manhattan_neighborhood_compare[manhattan_neighborhood_compare['Number of Venues'] == 100]\n",
    "manhattan_popular_neighborhood.head()"
   ]
  },
  {
   "cell_type": "markdown",
   "metadata": {},
   "source": [
    "Distribution of the number of good restaurants in popular neighborhood"
   ]
  },
  {
   "cell_type": "code",
   "execution_count": 416,
   "metadata": {},
   "outputs": [
    {
     "data": {
      "text/plain": [
       "<matplotlib.axes._subplots.AxesSubplot at 0xf2d9278>"
      ]
     },
     "execution_count": 416,
     "metadata": {},
     "output_type": "execute_result"
    },
    {
     "data": {
      "image/png": "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\n",
      "text/plain": [
       "<Figure size 432x288 with 1 Axes>"
      ]
     },
     "metadata": {},
     "output_type": "display_data"
    }
   ],
   "source": [
    "count, bin_edges = np.histogram(manhattan_popular_neighborhood['Number of Good Restaurants'])\n",
    "manhattan_popular_neighborhood['Number of Good Restaurants'].plot(kind = 'hist', xticks = bin_edges)"
   ]
  },
  {
   "cell_type": "code",
   "execution_count": 427,
   "metadata": {},
   "outputs": [
    {
     "data": {
      "text/html": [
       "<div>\n",
       "<style scoped>\n",
       "    .dataframe tbody tr th:only-of-type {\n",
       "        vertical-align: middle;\n",
       "    }\n",
       "\n",
       "    .dataframe tbody tr th {\n",
       "        vertical-align: top;\n",
       "    }\n",
       "\n",
       "    .dataframe thead th {\n",
       "        text-align: right;\n",
       "    }\n",
       "</style>\n",
       "<table border=\"1\" class=\"dataframe\">\n",
       "  <thead>\n",
       "    <tr style=\"text-align: right;\">\n",
       "      <th></th>\n",
       "      <th>Number of Venues</th>\n",
       "      <th>Number of Good Restaurants</th>\n",
       "    </tr>\n",
       "    <tr>\n",
       "      <th>Neighborhood</th>\n",
       "      <th></th>\n",
       "      <th></th>\n",
       "    </tr>\n",
       "  </thead>\n",
       "  <tbody>\n",
       "    <tr>\n",
       "      <th>Lincoln Square</th>\n",
       "      <td>100</td>\n",
       "      <td>15.0</td>\n",
       "    </tr>\n",
       "    <tr>\n",
       "      <th>Midtown</th>\n",
       "      <td>100</td>\n",
       "      <td>19.0</td>\n",
       "    </tr>\n",
       "    <tr>\n",
       "      <th>Soho</th>\n",
       "      <td>100</td>\n",
       "      <td>19.0</td>\n",
       "    </tr>\n",
       "    <tr>\n",
       "      <th>Financial District</th>\n",
       "      <td>100</td>\n",
       "      <td>22.0</td>\n",
       "    </tr>\n",
       "    <tr>\n",
       "      <th>Carnegie Hill</th>\n",
       "      <td>100</td>\n",
       "      <td>23.0</td>\n",
       "    </tr>\n",
       "    <tr>\n",
       "      <th>Upper East Side</th>\n",
       "      <td>100</td>\n",
       "      <td>24.0</td>\n",
       "    </tr>\n",
       "    <tr>\n",
       "      <th>Civic Center</th>\n",
       "      <td>100</td>\n",
       "      <td>25.0</td>\n",
       "    </tr>\n",
       "    <tr>\n",
       "      <th>Clinton</th>\n",
       "      <td>100</td>\n",
       "      <td>25.0</td>\n",
       "    </tr>\n",
       "    <tr>\n",
       "      <th>Gramercy</th>\n",
       "      <td>100</td>\n",
       "      <td>26.0</td>\n",
       "    </tr>\n",
       "    <tr>\n",
       "      <th>Chelsea</th>\n",
       "      <td>100</td>\n",
       "      <td>27.0</td>\n",
       "    </tr>\n",
       "    <tr>\n",
       "      <th>Little Italy</th>\n",
       "      <td>100</td>\n",
       "      <td>28.0</td>\n",
       "    </tr>\n",
       "    <tr>\n",
       "      <th>Lenox Hill</th>\n",
       "      <td>100</td>\n",
       "      <td>29.0</td>\n",
       "    </tr>\n",
       "    <tr>\n",
       "      <th>Midtown South</th>\n",
       "      <td>100</td>\n",
       "      <td>29.0</td>\n",
       "    </tr>\n",
       "    <tr>\n",
       "      <th>Tribeca</th>\n",
       "      <td>100</td>\n",
       "      <td>29.0</td>\n",
       "    </tr>\n",
       "    <tr>\n",
       "      <th>Yorkville</th>\n",
       "      <td>100</td>\n",
       "      <td>29.0</td>\n",
       "    </tr>\n",
       "  </tbody>\n",
       "</table>\n",
       "</div>"
      ],
      "text/plain": [
       "                    Number of Venues  Number of Good Restaurants\n",
       "Neighborhood                                                    \n",
       "Lincoln Square                   100                        15.0\n",
       "Midtown                          100                        19.0\n",
       "Soho                             100                        19.0\n",
       "Financial District               100                        22.0\n",
       "Carnegie Hill                    100                        23.0\n",
       "Upper East Side                  100                        24.0\n",
       "Civic Center                     100                        25.0\n",
       "Clinton                          100                        25.0\n",
       "Gramercy                         100                        26.0\n",
       "Chelsea                          100                        27.0\n",
       "Little Italy                     100                        28.0\n",
       "Lenox Hill                       100                        29.0\n",
       "Midtown South                    100                        29.0\n",
       "Tribeca                          100                        29.0\n",
       "Yorkville                        100                        29.0"
      ]
     },
     "execution_count": 427,
     "metadata": {},
     "output_type": "execute_result"
    }
   ],
   "source": [
    "Average = manhattan_popular_neighborhood['Number of Good Restaurants'].mean()\n",
    "manhattan_popular_neighborhood[ manhattan_popular_neighborhood['Number of Good Restaurants'] < Average].sort_values(['Number of Good Restaurants'])"
   ]
  },
  {
   "cell_type": "markdown",
   "metadata": {},
   "source": [
    "In summary, we could choose to open new restaurants in Lincoln Square, Midtown or Soho. These areas are popular but has less good restaurants compared with other popular neighborhood."
   ]
  },
  {
   "cell_type": "markdown",
   "metadata": {},
   "source": [
    "### Top 10 Restaurant Types for Each Neighborhhoods"
   ]
  },
  {
   "cell_type": "markdown",
   "metadata": {},
   "source": [
    "Create new dataframe using one hot encoding technique"
   ]
  },
  {
   "cell_type": "code",
   "execution_count": 13,
   "metadata": {},
   "outputs": [
    {
     "data": {
      "text/html": [
       "<div>\n",
       "<style scoped>\n",
       "    .dataframe tbody tr th:only-of-type {\n",
       "        vertical-align: middle;\n",
       "    }\n",
       "\n",
       "    .dataframe tbody tr th {\n",
       "        vertical-align: top;\n",
       "    }\n",
       "\n",
       "    .dataframe thead th {\n",
       "        text-align: right;\n",
       "    }\n",
       "</style>\n",
       "<table border=\"1\" class=\"dataframe\">\n",
       "  <thead>\n",
       "    <tr style=\"text-align: right;\">\n",
       "      <th></th>\n",
       "      <th>Neighborhood</th>\n",
       "      <th>Afghan Restaurant</th>\n",
       "      <th>African Restaurant</th>\n",
       "      <th>American Restaurant</th>\n",
       "      <th>Arepa Restaurant</th>\n",
       "      <th>Argentinian Restaurant</th>\n",
       "      <th>Asian Restaurant</th>\n",
       "      <th>Australian Restaurant</th>\n",
       "      <th>Austrian Restaurant</th>\n",
       "      <th>Belgian Restaurant</th>\n",
       "      <th>...</th>\n",
       "      <th>Szechuan Restaurant</th>\n",
       "      <th>Taiwanese Restaurant</th>\n",
       "      <th>Tapas Restaurant</th>\n",
       "      <th>Thai Restaurant</th>\n",
       "      <th>Tibetan Restaurant</th>\n",
       "      <th>Turkish Restaurant</th>\n",
       "      <th>Udon Restaurant</th>\n",
       "      <th>Vegetarian / Vegan Restaurant</th>\n",
       "      <th>Venezuelan Restaurant</th>\n",
       "      <th>Vietnamese Restaurant</th>\n",
       "    </tr>\n",
       "  </thead>\n",
       "  <tbody>\n",
       "    <tr>\n",
       "      <th>0</th>\n",
       "      <td>Marble Hill</td>\n",
       "      <td>0</td>\n",
       "      <td>0</td>\n",
       "      <td>0</td>\n",
       "      <td>0</td>\n",
       "      <td>0</td>\n",
       "      <td>0</td>\n",
       "      <td>0</td>\n",
       "      <td>0</td>\n",
       "      <td>0</td>\n",
       "      <td>...</td>\n",
       "      <td>0</td>\n",
       "      <td>0</td>\n",
       "      <td>0</td>\n",
       "      <td>0</td>\n",
       "      <td>0</td>\n",
       "      <td>0</td>\n",
       "      <td>0</td>\n",
       "      <td>0</td>\n",
       "      <td>0</td>\n",
       "      <td>0</td>\n",
       "    </tr>\n",
       "    <tr>\n",
       "      <th>1</th>\n",
       "      <td>Marble Hill</td>\n",
       "      <td>0</td>\n",
       "      <td>0</td>\n",
       "      <td>0</td>\n",
       "      <td>0</td>\n",
       "      <td>0</td>\n",
       "      <td>0</td>\n",
       "      <td>0</td>\n",
       "      <td>0</td>\n",
       "      <td>0</td>\n",
       "      <td>...</td>\n",
       "      <td>0</td>\n",
       "      <td>0</td>\n",
       "      <td>0</td>\n",
       "      <td>0</td>\n",
       "      <td>0</td>\n",
       "      <td>0</td>\n",
       "      <td>0</td>\n",
       "      <td>0</td>\n",
       "      <td>0</td>\n",
       "      <td>0</td>\n",
       "    </tr>\n",
       "    <tr>\n",
       "      <th>2</th>\n",
       "      <td>Chinatown</td>\n",
       "      <td>0</td>\n",
       "      <td>0</td>\n",
       "      <td>0</td>\n",
       "      <td>0</td>\n",
       "      <td>0</td>\n",
       "      <td>0</td>\n",
       "      <td>0</td>\n",
       "      <td>0</td>\n",
       "      <td>0</td>\n",
       "      <td>...</td>\n",
       "      <td>0</td>\n",
       "      <td>0</td>\n",
       "      <td>0</td>\n",
       "      <td>0</td>\n",
       "      <td>0</td>\n",
       "      <td>0</td>\n",
       "      <td>0</td>\n",
       "      <td>0</td>\n",
       "      <td>0</td>\n",
       "      <td>0</td>\n",
       "    </tr>\n",
       "    <tr>\n",
       "      <th>3</th>\n",
       "      <td>Chinatown</td>\n",
       "      <td>0</td>\n",
       "      <td>0</td>\n",
       "      <td>0</td>\n",
       "      <td>0</td>\n",
       "      <td>0</td>\n",
       "      <td>0</td>\n",
       "      <td>0</td>\n",
       "      <td>0</td>\n",
       "      <td>0</td>\n",
       "      <td>...</td>\n",
       "      <td>0</td>\n",
       "      <td>0</td>\n",
       "      <td>0</td>\n",
       "      <td>0</td>\n",
       "      <td>0</td>\n",
       "      <td>0</td>\n",
       "      <td>0</td>\n",
       "      <td>0</td>\n",
       "      <td>0</td>\n",
       "      <td>0</td>\n",
       "    </tr>\n",
       "    <tr>\n",
       "      <th>4</th>\n",
       "      <td>Chinatown</td>\n",
       "      <td>0</td>\n",
       "      <td>0</td>\n",
       "      <td>0</td>\n",
       "      <td>0</td>\n",
       "      <td>0</td>\n",
       "      <td>0</td>\n",
       "      <td>0</td>\n",
       "      <td>0</td>\n",
       "      <td>0</td>\n",
       "      <td>...</td>\n",
       "      <td>0</td>\n",
       "      <td>0</td>\n",
       "      <td>0</td>\n",
       "      <td>0</td>\n",
       "      <td>0</td>\n",
       "      <td>0</td>\n",
       "      <td>0</td>\n",
       "      <td>0</td>\n",
       "      <td>0</td>\n",
       "      <td>0</td>\n",
       "    </tr>\n",
       "  </tbody>\n",
       "</table>\n",
       "<p>5 rows × 74 columns</p>\n",
       "</div>"
      ],
      "text/plain": [
       "  Neighborhood  Afghan Restaurant  African Restaurant  American Restaurant  \\\n",
       "0  Marble Hill                  0                   0                    0   \n",
       "1  Marble Hill                  0                   0                    0   \n",
       "2    Chinatown                  0                   0                    0   \n",
       "3    Chinatown                  0                   0                    0   \n",
       "4    Chinatown                  0                   0                    0   \n",
       "\n",
       "   Arepa Restaurant  Argentinian Restaurant  Asian Restaurant  \\\n",
       "0                 0                       0                 0   \n",
       "1                 0                       0                 0   \n",
       "2                 0                       0                 0   \n",
       "3                 0                       0                 0   \n",
       "4                 0                       0                 0   \n",
       "\n",
       "   Australian Restaurant  Austrian Restaurant  Belgian Restaurant  \\\n",
       "0                      0                    0                   0   \n",
       "1                      0                    0                   0   \n",
       "2                      0                    0                   0   \n",
       "3                      0                    0                   0   \n",
       "4                      0                    0                   0   \n",
       "\n",
       "           ...            Szechuan Restaurant  Taiwanese Restaurant  \\\n",
       "0          ...                              0                     0   \n",
       "1          ...                              0                     0   \n",
       "2          ...                              0                     0   \n",
       "3          ...                              0                     0   \n",
       "4          ...                              0                     0   \n",
       "\n",
       "   Tapas Restaurant  Thai Restaurant  Tibetan Restaurant  Turkish Restaurant  \\\n",
       "0                 0                0                   0                   0   \n",
       "1                 0                0                   0                   0   \n",
       "2                 0                0                   0                   0   \n",
       "3                 0                0                   0                   0   \n",
       "4                 0                0                   0                   0   \n",
       "\n",
       "   Udon Restaurant  Vegetarian / Vegan Restaurant  Venezuelan Restaurant  \\\n",
       "0                0                              0                      0   \n",
       "1                0                              0                      0   \n",
       "2                0                              0                      0   \n",
       "3                0                              0                      0   \n",
       "4                0                              0                      0   \n",
       "\n",
       "   Vietnamese Restaurant  \n",
       "0                      0  \n",
       "1                      0  \n",
       "2                      0  \n",
       "3                      0  \n",
       "4                      0  \n",
       "\n",
       "[5 rows x 74 columns]"
      ]
     },
     "execution_count": 13,
     "metadata": {},
     "output_type": "execute_result"
    }
   ],
   "source": [
    "# one hot encoding\n",
    "manhattan_onehot = pd.get_dummies(manhattan_restaurants[['Restaurant Category']], prefix=\"\", prefix_sep=\"\")\n",
    "              \n",
    "# add neighborhood column back to dataframe\n",
    "manhattan_onehot['Neighborhood'] = manhattan_restaurants['Neighborhood'] \n",
    "\n",
    "# move neighborhood column to the first column\n",
    "manhattan_fixed_columns = list(manhattan_onehot.columns)\n",
    "manhattan_fixed_columns.remove('Neighborhood')\n",
    "manhattan_onehot = manhattan_onehot[['Neighborhood'] + manhattan_fixed_columns]\n",
    "\n",
    "manhattan_onehot.head()"
   ]
  },
  {
   "cell_type": "markdown",
   "metadata": {},
   "source": [
    "Group rows by neighborhood and by taking the mean of occurence of each category"
   ]
  },
  {
   "cell_type": "code",
   "execution_count": 138,
   "metadata": {},
   "outputs": [
    {
     "data": {
      "text/html": [
       "<div>\n",
       "<style scoped>\n",
       "    .dataframe tbody tr th:only-of-type {\n",
       "        vertical-align: middle;\n",
       "    }\n",
       "\n",
       "    .dataframe tbody tr th {\n",
       "        vertical-align: top;\n",
       "    }\n",
       "\n",
       "    .dataframe thead th {\n",
       "        text-align: right;\n",
       "    }\n",
       "</style>\n",
       "<table border=\"1\" class=\"dataframe\">\n",
       "  <thead>\n",
       "    <tr style=\"text-align: right;\">\n",
       "      <th></th>\n",
       "      <th>Neighborhood</th>\n",
       "      <th>Afghan Restaurant</th>\n",
       "      <th>African Restaurant</th>\n",
       "      <th>American Restaurant</th>\n",
       "      <th>Arepa Restaurant</th>\n",
       "      <th>Argentinian Restaurant</th>\n",
       "      <th>Asian Restaurant</th>\n",
       "      <th>Australian Restaurant</th>\n",
       "      <th>Austrian Restaurant</th>\n",
       "      <th>Belgian Restaurant</th>\n",
       "      <th>...</th>\n",
       "      <th>Szechuan Restaurant</th>\n",
       "      <th>Taiwanese Restaurant</th>\n",
       "      <th>Tapas Restaurant</th>\n",
       "      <th>Thai Restaurant</th>\n",
       "      <th>Tibetan Restaurant</th>\n",
       "      <th>Turkish Restaurant</th>\n",
       "      <th>Udon Restaurant</th>\n",
       "      <th>Vegetarian / Vegan Restaurant</th>\n",
       "      <th>Venezuelan Restaurant</th>\n",
       "      <th>Vietnamese Restaurant</th>\n",
       "    </tr>\n",
       "  </thead>\n",
       "  <tbody>\n",
       "    <tr>\n",
       "      <th>0</th>\n",
       "      <td>Battery Park City</td>\n",
       "      <td>0.0</td>\n",
       "      <td>0.0</td>\n",
       "      <td>0.200000</td>\n",
       "      <td>0.0</td>\n",
       "      <td>0.000000</td>\n",
       "      <td>0.000000</td>\n",
       "      <td>0.0</td>\n",
       "      <td>0.00000</td>\n",
       "      <td>0.0</td>\n",
       "      <td>...</td>\n",
       "      <td>0.0</td>\n",
       "      <td>0.00000</td>\n",
       "      <td>0.000000</td>\n",
       "      <td>0.000000</td>\n",
       "      <td>0.0</td>\n",
       "      <td>0.0</td>\n",
       "      <td>0.0</td>\n",
       "      <td>0.000000</td>\n",
       "      <td>0.0</td>\n",
       "      <td>0.000000</td>\n",
       "    </tr>\n",
       "    <tr>\n",
       "      <th>1</th>\n",
       "      <td>Carnegie Hill</td>\n",
       "      <td>0.0</td>\n",
       "      <td>0.0</td>\n",
       "      <td>0.045455</td>\n",
       "      <td>0.0</td>\n",
       "      <td>0.045455</td>\n",
       "      <td>0.000000</td>\n",
       "      <td>0.0</td>\n",
       "      <td>0.00000</td>\n",
       "      <td>0.0</td>\n",
       "      <td>...</td>\n",
       "      <td>0.0</td>\n",
       "      <td>0.00000</td>\n",
       "      <td>0.000000</td>\n",
       "      <td>0.090909</td>\n",
       "      <td>0.0</td>\n",
       "      <td>0.0</td>\n",
       "      <td>0.0</td>\n",
       "      <td>0.045455</td>\n",
       "      <td>0.0</td>\n",
       "      <td>0.045455</td>\n",
       "    </tr>\n",
       "    <tr>\n",
       "      <th>2</th>\n",
       "      <td>Central Harlem</td>\n",
       "      <td>0.0</td>\n",
       "      <td>0.2</td>\n",
       "      <td>0.133333</td>\n",
       "      <td>0.0</td>\n",
       "      <td>0.000000</td>\n",
       "      <td>0.000000</td>\n",
       "      <td>0.0</td>\n",
       "      <td>0.00000</td>\n",
       "      <td>0.0</td>\n",
       "      <td>...</td>\n",
       "      <td>0.0</td>\n",
       "      <td>0.00000</td>\n",
       "      <td>0.066667</td>\n",
       "      <td>0.000000</td>\n",
       "      <td>0.0</td>\n",
       "      <td>0.0</td>\n",
       "      <td>0.0</td>\n",
       "      <td>0.000000</td>\n",
       "      <td>0.0</td>\n",
       "      <td>0.000000</td>\n",
       "    </tr>\n",
       "    <tr>\n",
       "      <th>3</th>\n",
       "      <td>Chelsea</td>\n",
       "      <td>0.0</td>\n",
       "      <td>0.0</td>\n",
       "      <td>0.111111</td>\n",
       "      <td>0.0</td>\n",
       "      <td>0.000000</td>\n",
       "      <td>0.074074</td>\n",
       "      <td>0.0</td>\n",
       "      <td>0.00000</td>\n",
       "      <td>0.0</td>\n",
       "      <td>...</td>\n",
       "      <td>0.0</td>\n",
       "      <td>0.00000</td>\n",
       "      <td>0.074074</td>\n",
       "      <td>0.000000</td>\n",
       "      <td>0.0</td>\n",
       "      <td>0.0</td>\n",
       "      <td>0.0</td>\n",
       "      <td>0.037037</td>\n",
       "      <td>0.0</td>\n",
       "      <td>0.000000</td>\n",
       "    </tr>\n",
       "    <tr>\n",
       "      <th>4</th>\n",
       "      <td>Chinatown</td>\n",
       "      <td>0.0</td>\n",
       "      <td>0.0</td>\n",
       "      <td>0.095238</td>\n",
       "      <td>0.0</td>\n",
       "      <td>0.000000</td>\n",
       "      <td>0.047619</td>\n",
       "      <td>0.0</td>\n",
       "      <td>0.02381</td>\n",
       "      <td>0.0</td>\n",
       "      <td>...</td>\n",
       "      <td>0.0</td>\n",
       "      <td>0.02381</td>\n",
       "      <td>0.000000</td>\n",
       "      <td>0.000000</td>\n",
       "      <td>0.0</td>\n",
       "      <td>0.0</td>\n",
       "      <td>0.0</td>\n",
       "      <td>0.000000</td>\n",
       "      <td>0.0</td>\n",
       "      <td>0.095238</td>\n",
       "    </tr>\n",
       "  </tbody>\n",
       "</table>\n",
       "<p>5 rows × 74 columns</p>\n",
       "</div>"
      ],
      "text/plain": [
       "        Neighborhood  Afghan Restaurant  African Restaurant  \\\n",
       "0  Battery Park City                0.0                 0.0   \n",
       "1      Carnegie Hill                0.0                 0.0   \n",
       "2     Central Harlem                0.0                 0.2   \n",
       "3            Chelsea                0.0                 0.0   \n",
       "4          Chinatown                0.0                 0.0   \n",
       "\n",
       "   American Restaurant  Arepa Restaurant  Argentinian Restaurant  \\\n",
       "0             0.200000               0.0                0.000000   \n",
       "1             0.045455               0.0                0.045455   \n",
       "2             0.133333               0.0                0.000000   \n",
       "3             0.111111               0.0                0.000000   \n",
       "4             0.095238               0.0                0.000000   \n",
       "\n",
       "   Asian Restaurant  Australian Restaurant  Austrian Restaurant  \\\n",
       "0          0.000000                    0.0              0.00000   \n",
       "1          0.000000                    0.0              0.00000   \n",
       "2          0.000000                    0.0              0.00000   \n",
       "3          0.074074                    0.0              0.00000   \n",
       "4          0.047619                    0.0              0.02381   \n",
       "\n",
       "   Belgian Restaurant          ...            Szechuan Restaurant  \\\n",
       "0                 0.0          ...                            0.0   \n",
       "1                 0.0          ...                            0.0   \n",
       "2                 0.0          ...                            0.0   \n",
       "3                 0.0          ...                            0.0   \n",
       "4                 0.0          ...                            0.0   \n",
       "\n",
       "   Taiwanese Restaurant  Tapas Restaurant  Thai Restaurant  \\\n",
       "0               0.00000          0.000000         0.000000   \n",
       "1               0.00000          0.000000         0.090909   \n",
       "2               0.00000          0.066667         0.000000   \n",
       "3               0.00000          0.074074         0.000000   \n",
       "4               0.02381          0.000000         0.000000   \n",
       "\n",
       "   Tibetan Restaurant  Turkish Restaurant  Udon Restaurant  \\\n",
       "0                 0.0                 0.0              0.0   \n",
       "1                 0.0                 0.0              0.0   \n",
       "2                 0.0                 0.0              0.0   \n",
       "3                 0.0                 0.0              0.0   \n",
       "4                 0.0                 0.0              0.0   \n",
       "\n",
       "   Vegetarian / Vegan Restaurant  Venezuelan Restaurant  Vietnamese Restaurant  \n",
       "0                       0.000000                    0.0               0.000000  \n",
       "1                       0.045455                    0.0               0.045455  \n",
       "2                       0.000000                    0.0               0.000000  \n",
       "3                       0.037037                    0.0               0.000000  \n",
       "4                       0.000000                    0.0               0.095238  \n",
       "\n",
       "[5 rows x 74 columns]"
      ]
     },
     "execution_count": 138,
     "metadata": {},
     "output_type": "execute_result"
    }
   ],
   "source": [
    "manhattan_grouped = manhattan_onehot.groupby('Neighborhood').mean().reset_index()\n",
    "manhattan_grouped.head()"
   ]
  },
  {
   "cell_type": "code",
   "execution_count": 74,
   "metadata": {},
   "outputs": [],
   "source": [
    "# write a function to sort the restaurants in descending order\n",
    "def return_most_common_restaurants(row, num_top_venues):\n",
    "    row_categories = row.iloc[1:]\n",
    "    row_categories_sorted = row_categories.sort_values(ascending=False)\n",
    "    \n",
    "    return row_categories_sorted.index.values[0:num_top_venues]\n",
    "\n",
    "# create the new dataframe and display the top 10 venues for each neighborhood\n",
    "num_top_restaurants = 10\n",
    "\n",
    "indicators = ['st', 'nd', 'rd']\n",
    "\n",
    "# create columns according to number of top venues\n",
    "columns = ['Neighborhood']\n",
    "for ind in np.arange(num_top_restaurants):\n",
    "    try:\n",
    "        columns.append('{}{} Most Common restaurant'.format(ind+1, indicators[ind]))\n",
    "    except:\n",
    "        columns.append('{}th Most Common restaurant'.format(ind+1))"
   ]
  },
  {
   "cell_type": "code",
   "execution_count": 139,
   "metadata": {},
   "outputs": [
    {
     "data": {
      "text/html": [
       "<div>\n",
       "<style scoped>\n",
       "    .dataframe tbody tr th:only-of-type {\n",
       "        vertical-align: middle;\n",
       "    }\n",
       "\n",
       "    .dataframe tbody tr th {\n",
       "        vertical-align: top;\n",
       "    }\n",
       "\n",
       "    .dataframe thead th {\n",
       "        text-align: right;\n",
       "    }\n",
       "</style>\n",
       "<table border=\"1\" class=\"dataframe\">\n",
       "  <thead>\n",
       "    <tr style=\"text-align: right;\">\n",
       "      <th></th>\n",
       "      <th>Neighborhood</th>\n",
       "      <th>1st Most Common restaurant</th>\n",
       "      <th>2nd Most Common restaurant</th>\n",
       "      <th>3rd Most Common restaurant</th>\n",
       "      <th>4th Most Common restaurant</th>\n",
       "      <th>5th Most Common restaurant</th>\n",
       "      <th>6th Most Common restaurant</th>\n",
       "      <th>7th Most Common restaurant</th>\n",
       "      <th>8th Most Common restaurant</th>\n",
       "      <th>9th Most Common restaurant</th>\n",
       "      <th>10th Most Common restaurant</th>\n",
       "    </tr>\n",
       "  </thead>\n",
       "  <tbody>\n",
       "    <tr>\n",
       "      <th>0</th>\n",
       "      <td>Battery Park City</td>\n",
       "      <td>Italian Restaurant</td>\n",
       "      <td>American Restaurant</td>\n",
       "      <td>Indian Restaurant</td>\n",
       "      <td>Seafood Restaurant</td>\n",
       "      <td>Mexican Restaurant</td>\n",
       "      <td>Sushi Restaurant</td>\n",
       "      <td>Chinese Restaurant</td>\n",
       "      <td>Vietnamese Restaurant</td>\n",
       "      <td>French Restaurant</td>\n",
       "      <td>Ethiopian Restaurant</td>\n",
       "    </tr>\n",
       "    <tr>\n",
       "      <th>1</th>\n",
       "      <td>Carnegie Hill</td>\n",
       "      <td>Japanese Restaurant</td>\n",
       "      <td>Italian Restaurant</td>\n",
       "      <td>French Restaurant</td>\n",
       "      <td>Thai Restaurant</td>\n",
       "      <td>Chinese Restaurant</td>\n",
       "      <td>Kosher Restaurant</td>\n",
       "      <td>Mediterranean Restaurant</td>\n",
       "      <td>Mexican Restaurant</td>\n",
       "      <td>Filipino Restaurant</td>\n",
       "      <td>New American Restaurant</td>\n",
       "    </tr>\n",
       "    <tr>\n",
       "      <th>2</th>\n",
       "      <td>Central Harlem</td>\n",
       "      <td>African Restaurant</td>\n",
       "      <td>American Restaurant</td>\n",
       "      <td>French Restaurant</td>\n",
       "      <td>Seafood Restaurant</td>\n",
       "      <td>Chinese Restaurant</td>\n",
       "      <td>Ethiopian Restaurant</td>\n",
       "      <td>Southern / Soul Food Restaurant</td>\n",
       "      <td>Tapas Restaurant</td>\n",
       "      <td>Caribbean Restaurant</td>\n",
       "      <td>Falafel Restaurant</td>\n",
       "    </tr>\n",
       "    <tr>\n",
       "      <th>3</th>\n",
       "      <td>Chelsea</td>\n",
       "      <td>Italian Restaurant</td>\n",
       "      <td>Seafood Restaurant</td>\n",
       "      <td>American Restaurant</td>\n",
       "      <td>Mexican Restaurant</td>\n",
       "      <td>Tapas Restaurant</td>\n",
       "      <td>Asian Restaurant</td>\n",
       "      <td>Sushi Restaurant</td>\n",
       "      <td>Israeli Restaurant</td>\n",
       "      <td>French Restaurant</td>\n",
       "      <td>New American Restaurant</td>\n",
       "    </tr>\n",
       "    <tr>\n",
       "      <th>4</th>\n",
       "      <td>Chinatown</td>\n",
       "      <td>Chinese Restaurant</td>\n",
       "      <td>Vietnamese Restaurant</td>\n",
       "      <td>American Restaurant</td>\n",
       "      <td>Dim Sum Restaurant</td>\n",
       "      <td>Hotpot Restaurant</td>\n",
       "      <td>Dumpling Restaurant</td>\n",
       "      <td>Mexican Restaurant</td>\n",
       "      <td>Asian Restaurant</td>\n",
       "      <td>Greek Restaurant</td>\n",
       "      <td>Malay Restaurant</td>\n",
       "    </tr>\n",
       "  </tbody>\n",
       "</table>\n",
       "</div>"
      ],
      "text/plain": [
       "        Neighborhood 1st Most Common restaurant 2nd Most Common restaurant  \\\n",
       "0  Battery Park City         Italian Restaurant        American Restaurant   \n",
       "1      Carnegie Hill        Japanese Restaurant         Italian Restaurant   \n",
       "2     Central Harlem         African Restaurant        American Restaurant   \n",
       "3            Chelsea         Italian Restaurant         Seafood Restaurant   \n",
       "4          Chinatown         Chinese Restaurant      Vietnamese Restaurant   \n",
       "\n",
       "  3rd Most Common restaurant 4th Most Common restaurant  \\\n",
       "0          Indian Restaurant         Seafood Restaurant   \n",
       "1          French Restaurant            Thai Restaurant   \n",
       "2          French Restaurant         Seafood Restaurant   \n",
       "3        American Restaurant         Mexican Restaurant   \n",
       "4        American Restaurant         Dim Sum Restaurant   \n",
       "\n",
       "  5th Most Common restaurant 6th Most Common restaurant  \\\n",
       "0         Mexican Restaurant           Sushi Restaurant   \n",
       "1         Chinese Restaurant          Kosher Restaurant   \n",
       "2         Chinese Restaurant       Ethiopian Restaurant   \n",
       "3           Tapas Restaurant           Asian Restaurant   \n",
       "4          Hotpot Restaurant        Dumpling Restaurant   \n",
       "\n",
       "        7th Most Common restaurant 8th Most Common restaurant  \\\n",
       "0               Chinese Restaurant      Vietnamese Restaurant   \n",
       "1         Mediterranean Restaurant         Mexican Restaurant   \n",
       "2  Southern / Soul Food Restaurant           Tapas Restaurant   \n",
       "3                 Sushi Restaurant         Israeli Restaurant   \n",
       "4               Mexican Restaurant           Asian Restaurant   \n",
       "\n",
       "  9th Most Common restaurant 10th Most Common restaurant  \n",
       "0          French Restaurant        Ethiopian Restaurant  \n",
       "1        Filipino Restaurant     New American Restaurant  \n",
       "2       Caribbean Restaurant          Falafel Restaurant  \n",
       "3          French Restaurant     New American Restaurant  \n",
       "4           Greek Restaurant            Malay Restaurant  "
      ]
     },
     "execution_count": 139,
     "metadata": {},
     "output_type": "execute_result"
    }
   ],
   "source": [
    "# create a new dataframe\n",
    "manhattan_restaurants_sorted = pd.DataFrame(columns=columns)\n",
    "manhattan_restaurants_sorted['Neighborhood'] = manhattan_grouped['Neighborhood']\n",
    "\n",
    "for ind in np.arange(manhattan_grouped.shape[0]):\n",
    "    manhattan_restaurants_sorted.iloc[ind, 1:] = return_most_common_restaurants(manhattan_grouped.iloc[ind, :], num_top_restaurants)\n",
    "\n",
    "manhattan_restaurants_sorted.head()"
   ]
  },
  {
   "cell_type": "markdown",
   "metadata": {},
   "source": [
    "### Top Restaurant Types in Manhattan"
   ]
  },
  {
   "cell_type": "code",
   "execution_count": 140,
   "metadata": {},
   "outputs": [],
   "source": [
    "# Summary top restaurants in manhattan\n",
    "Unique_restaurants_manhattan = []\n",
    "\n",
    "for n in np.arange(manhattan_restaurants_sorted.shape[0]):\n",
    "    for m in np.arange(manhattan_restaurants_sorted.shape[1]-1):\n",
    "        Unique_restaurants_manhattan.append(manhattan_restaurants_sorted.drop('Neighborhood',axis = 1).iloc[n, m])\n",
    "        \n",
    "Unique_restaurants_manhattan_set = set(Unique_restaurants_manhattan)\n",
    "\n",
    "count = np.zeros(len(Unique_restaurants_manhattan_set))\n",
    "\n",
    "for i, ind in enumerate(list(Unique_restaurants_manhattan_set)):\n",
    "    for name in Unique_restaurants_manhattan:\n",
    "        if name == ind:\n",
    "            count[i] = count[i]+1\n",
    "\n",
    "manhattan_restaurants_counts = pd.DataFrame(count,list(Unique_restaurants_manhattan_set))            \n",
    "manhattan_restaurants_counts.columns = ['Counts']            \n",
    "manhattan_restaurants_counts.sort_values(['Counts'], ascending=False, axis = 0, inplace = True)\n",
    "manhattan_restaurants_counts['Ratio'] = manhattan_restaurants_counts['Counts']/ manhattan_restaurants_counts['Counts'].sum()"
   ]
  },
  {
   "cell_type": "code",
   "execution_count": 141,
   "metadata": {},
   "outputs": [
    {
     "data": {
      "image/png": "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\n",
      "text/plain": [
       "<Figure size 1152x720 with 1 Axes>"
      ]
     },
     "metadata": {},
     "output_type": "display_data"
    }
   ],
   "source": [
    "# Visualization of different restaurants in manhattan\n",
    "manhattan_restaurants_counts['Ratio'].plot(kind = 'bar', figsize = (16, 10))\n",
    "plt.ylabel('Ratio of different restaurants in manhattan')\n",
    "plt.show()"
   ]
  },
  {
   "cell_type": "markdown",
   "metadata": {},
   "source": [
    "Statistics of Top restaurant types in Manhattan"
   ]
  },
  {
   "cell_type": "code",
   "execution_count": 430,
   "metadata": {},
   "outputs": [
    {
     "data": {
      "text/html": [
       "<div>\n",
       "<style scoped>\n",
       "    .dataframe tbody tr th:only-of-type {\n",
       "        vertical-align: middle;\n",
       "    }\n",
       "\n",
       "    .dataframe tbody tr th {\n",
       "        vertical-align: top;\n",
       "    }\n",
       "\n",
       "    .dataframe thead th {\n",
       "        text-align: right;\n",
       "    }\n",
       "</style>\n",
       "<table border=\"1\" class=\"dataframe\">\n",
       "  <thead>\n",
       "    <tr style=\"text-align: right;\">\n",
       "      <th></th>\n",
       "      <th>Counts</th>\n",
       "      <th>Ratio</th>\n",
       "    </tr>\n",
       "  </thead>\n",
       "  <tbody>\n",
       "    <tr>\n",
       "      <th>Italian Restaurant</th>\n",
       "      <td>30.0</td>\n",
       "      <td>0.076923</td>\n",
       "    </tr>\n",
       "    <tr>\n",
       "      <th>American Restaurant</th>\n",
       "      <td>29.0</td>\n",
       "      <td>0.074359</td>\n",
       "    </tr>\n",
       "    <tr>\n",
       "      <th>French Restaurant</th>\n",
       "      <td>27.0</td>\n",
       "      <td>0.069231</td>\n",
       "    </tr>\n",
       "    <tr>\n",
       "      <th>Mexican Restaurant</th>\n",
       "      <td>26.0</td>\n",
       "      <td>0.066667</td>\n",
       "    </tr>\n",
       "    <tr>\n",
       "      <th>Seafood Restaurant</th>\n",
       "      <td>23.0</td>\n",
       "      <td>0.058974</td>\n",
       "    </tr>\n",
       "  </tbody>\n",
       "</table>\n",
       "</div>"
      ],
      "text/plain": [
       "                     Counts     Ratio\n",
       "Italian Restaurant     30.0  0.076923\n",
       "American Restaurant    29.0  0.074359\n",
       "French Restaurant      27.0  0.069231\n",
       "Mexican Restaurant     26.0  0.066667\n",
       "Seafood Restaurant     23.0  0.058974"
      ]
     },
     "execution_count": 430,
     "metadata": {},
     "output_type": "execute_result"
    }
   ],
   "source": [
    "manhattan_restaurants_counts.head()"
   ]
  },
  {
   "cell_type": "code",
   "execution_count": 429,
   "metadata": {},
   "outputs": [
    {
     "data": {
      "text/plain": [
       "0.3461538461538462"
      ]
     },
     "execution_count": 429,
     "metadata": {},
     "output_type": "execute_result"
    }
   ],
   "source": [
    "manhattan_restaurants_counts.iloc[0:5,1].sum()"
   ]
  },
  {
   "cell_type": "markdown",
   "metadata": {},
   "source": [
    "In Summary, the most popular restaurant types is Italian, American, French, Mexican, Seafood. The sum of their ratio is over one third. "
   ]
  },
  {
   "cell_type": "markdown",
   "metadata": {},
   "source": [
    "## Conclusion"
   ]
  },
  {
   "cell_type": "markdown",
   "metadata": {},
   "source": [
    "I recommend to open new restaurants in Lincoln Square, Midtown or Soho. These areas are popular but has less good restaurants compared with other popular neighborhood. The restaurant type could choose from the most popular restaurant types in Manhattan: Italian, American, French, Mexican or Seafood."
   ]
  }
 ],
 "metadata": {
  "kernelspec": {
   "display_name": "Python 3",
   "language": "python",
   "name": "python3"
  },
  "language_info": {
   "codemirror_mode": {
    "name": "ipython",
    "version": 3
   },
   "file_extension": ".py",
   "mimetype": "text/x-python",
   "name": "python",
   "nbconvert_exporter": "python",
   "pygments_lexer": "ipython3",
   "version": "3.6.5"
  }
 },
 "nbformat": 4,
 "nbformat_minor": 1
}
