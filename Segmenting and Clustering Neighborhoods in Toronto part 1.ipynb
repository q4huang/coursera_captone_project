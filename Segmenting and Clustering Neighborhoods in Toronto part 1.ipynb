{
    "nbformat_minor": 1, 
    "cells": [
        {
            "execution_count": 1, 
            "cell_type": "code", 
            "metadata": {}, 
            "outputs": [], 
            "source": "from bs4 import BeautifulSoup"
        }, 
        {
            "execution_count": 2, 
            "cell_type": "code", 
            "metadata": {}, 
            "outputs": [], 
            "source": "import requests"
        }, 
        {
            "execution_count": 3, 
            "cell_type": "code", 
            "metadata": {}, 
            "outputs": [], 
            "source": "url = \"https://en.wikipedia.org/wiki/List_of_postal_codes_of_Canada:_M\""
        }, 
        {
            "execution_count": 4, 
            "cell_type": "code", 
            "metadata": {}, 
            "outputs": [], 
            "source": "source = requests.get(url).text"
        }, 
        {
            "execution_count": 5, 
            "cell_type": "code", 
            "metadata": {}, 
            "outputs": [], 
            "source": "Canada_data = BeautifulSoup(source, 'lxml')"
        }, 
        {
            "execution_count": 6, 
            "cell_type": "code", 
            "metadata": {}, 
            "outputs": [], 
            "source": "import pandas as pd"
        }, 
        {
            "execution_count": 11, 
            "cell_type": "code", 
            "metadata": {}, 
            "outputs": [
                {
                    "execution_count": 11, 
                    "metadata": {}, 
                    "data": {
                        "text/plain": "<bound method NDFrame.head of     Postalcode           Borough  \\\n0          M1B       Scarborough   \n1          M1C       Scarborough   \n2          M1E       Scarborough   \n3          M1G       Scarborough   \n4          M1H       Scarborough   \n5          M1J       Scarborough   \n6          M1K       Scarborough   \n7          M1L       Scarborough   \n8          M1M       Scarborough   \n9          M1N       Scarborough   \n10         M1P       Scarborough   \n11         M1R       Scarborough   \n12         M1S       Scarborough   \n13         M1T       Scarborough   \n14         M1V       Scarborough   \n15         M1W       Scarborough   \n16         M1X       Scarborough   \n17         M2H        North York   \n18         M2J        North York   \n19         M2K        North York   \n20         M2L        North York   \n21         M2M        North York   \n22         M2N        North York   \n23         M2P        North York   \n24         M2R        North York   \n25         M3A        North York   \n26         M3B        North York   \n27         M3C        North York   \n28         M3H        North York   \n29         M3J        North York   \n..         ...               ...   \n73         M6C              York   \n74         M6E              York   \n75         M6G  Downtown Toronto   \n76         M6H      West Toronto   \n77         M6J      West Toronto   \n78         M6K      West Toronto   \n79         M6L        North York   \n80         M6M              York   \n81         M6N              York   \n82         M6P      West Toronto   \n83         M6R      West Toronto   \n84         M6S      West Toronto   \n85         M7A      Queen's Park   \n86         M7R       Mississauga   \n87         M7Y      East Toronto   \n88         M8V         Etobicoke   \n89         M8W         Etobicoke   \n90         M8X         Etobicoke   \n91         M8Y         Etobicoke   \n92         M8Z         Etobicoke   \n93         M9A         Etobicoke   \n94         M9B         Etobicoke   \n95         M9C         Etobicoke   \n96         M9L        North York   \n97         M9M        North York   \n98         M9N              York   \n99         M9P         Etobicoke   \n100        M9R         Etobicoke   \n101        M9V         Etobicoke   \n102        M9W         Etobicoke   \n\n                                          Neighborhood   Latitude  Longitude  \n0                                       Rouge, Malvern  43.806686 -79.194353  \n1               Highland Creek, Rouge Hill, Port Union  43.784535 -79.160497  \n2                    Guildwood, Morningside, West Hill  43.763573 -79.188711  \n3                                               Woburn  43.770992 -79.216917  \n4                                            Cedarbrae  43.773136 -79.239476  \n5                                  Scarborough Village  43.744734 -79.239476  \n6          East Birchmount Park, Ionview, Kennedy Park  43.727929 -79.262029  \n7                      Clairlea, Golden Mile, Oakridge  43.711112 -79.284577  \n8      Cliffcrest, Cliffside, Scarborough Village West  43.716316 -79.239476  \n9                          Birch Cliff, Cliffside West  43.692657 -79.264848  \n10   Dorset Park, Scarborough Town Centre, Wexford ...  43.757410 -79.273304  \n11                                   Maryvale, Wexford  43.750071 -79.295849  \n12                                           Agincourt  43.794200 -79.262029  \n13             Clarks Corners, Sullivan, Tam O'Shanter  43.781638 -79.304302  \n14   Agincourt North, L'Amoreaux East, Milliken, St...  43.815252 -79.284577  \n15                       L'Amoreaux West, Steeles West  43.799525 -79.318389  \n16                                         Upper Rouge  43.836125 -79.205636  \n17                                   Hillcrest Village  43.803762 -79.363452  \n18                        Fairview, Henry Farm, Oriole  43.778517 -79.346556  \n19                                     Bayview Village  43.786947 -79.385975  \n20                            Silver Hills, York Mills  43.757490 -79.374714  \n21                             Newtonbrook, Willowdale  43.789053 -79.408493  \n22                                    Willowdale South  43.770120 -79.408493  \n23                                     York Mills West  43.752758 -79.400049  \n24                                     Willowdale West  43.782736 -79.442259  \n25                                           Parkwoods  43.753259 -79.329656  \n26                                     Don Mills North  43.745906 -79.352188  \n27                    Flemingdon Park, Don Mills South  43.725900 -79.340923  \n28     Bathurst Manor, Downsview North, Wilson Heights  43.754328 -79.442259  \n29                     Northwood Park, York University  43.767980 -79.487262  \n..                                                 ...        ...        ...  \n73                                  Humewood-Cedarvale  43.693781 -79.428191  \n74                                 Caledonia-Fairbanks  43.689026 -79.453512  \n75                                            Christie  43.669542 -79.422564  \n76                        Dovercourt Village, Dufferin  43.669005 -79.442259  \n77                            Little Portugal, Trinity  43.647927 -79.419750  \n78        Brockton, Exhibition Place, Parkdale Village  43.636847 -79.428191  \n79            Maple Leaf Park, North Park, Upwood Park  43.713756 -79.490074  \n80       Del Ray, Keelsdale, Mount Dennis, Silverthorn  43.691116 -79.476013  \n81                       The Junction North, Runnymede  43.673185 -79.487262  \n82                       High Park, The Junction South  43.661608 -79.464763  \n83                              Parkdale, Roncesvalles  43.648960 -79.456325  \n84                                  Runnymede, Swansea  43.651571 -79.484450  \n85                                        Queen's Park  43.662301 -79.389494  \n86               Canada Post Gateway Processing Centre  43.636966 -79.615819  \n87    Business reply mail Processing Centre969 Eastern  43.662744 -79.321558  \n88        Humber Bay Shores, Mimico South, New Toronto  43.605647 -79.501321  \n89                              Alderwood, Long Branch  43.602414 -79.543484  \n90       The Kingsway, Montgomery Road, Old Mill North  43.653654 -79.506944  \n91   Humber Bay, King's Mill Park, Kingsway Park So...  43.636258 -79.498509  \n92   Kingsway Park South West, Mimico NW, The Queen...  43.628841 -79.520999  \n93                                    Islington Avenue  43.667856 -79.532242  \n94   Cloverdale, Islington, Martin Grove, Princess ...  43.650943 -79.554724  \n95   Bloordale Gardens, Eringate, Markland Wood, Ol...  43.643515 -79.577201  \n96                                       Humber Summit  43.756303 -79.565963  \n97                                    Emery, Humberlea  43.724766 -79.532242  \n98                                              Weston  43.706876 -79.518188  \n99                                           Westmount  43.696319 -79.532242  \n100  Kingsview Village, Martin Grove Gardens, Richv...  43.688905 -79.554724  \n101  Albion Gardens, Beaumond Heights, Humbergate, ...  43.739416 -79.588437  \n102                                          Northwest  43.706748 -79.594054  \n\n[103 rows x 5 columns]>"
                    }, 
                    "output_type": "execute_result"
                }
            ], 
            "source": "column_names = ['Postalcode','Borough','Neighborhood']\ntoronto = pd.DataFrame(columns = column_names)\n\ncontent = Canada_data.find('div', class_='mw-parser-output')\ntable = content.table.tbody\npostcode = 0\nborough = 0\nneighborhood = 0\n\nfor tr in table.find_all('tr'):\n    i = 0\n    for td in tr.find_all('td'):\n        if i == 0:\n            postcode = td.text\n#            print(i, postcode)\n            i = i + 1\n        elif i == 1:\n            borough = td.text\n#            print(i, borough)\n            i = i + 1\n        elif i == 2: \n            neighborhood = td.text.strip('\\n').replace(']','')\n#            print(i, neighborhood)\n    toronto = toronto.append({'Postalcode': postcode,'Borough': borough,'Neighborhood': neighborhood},ignore_index=True)\n\ntoronto = toronto[toronto.Borough!='Not assigned']\ntoronto = toronto[toronto.Borough!= 0]\ntoronto.reset_index(drop = True, inplace = True)\ni = 0\nfor i in range(0,toronto.shape[0]):\n    if toronto.iloc[i][2] == 'Not assigned':\n        toronto.iloc[i][2] = toronto.iloc[i][1]\n        i = i+1\n                                 \ndf.head        "
        }, 
        {
            "execution_count": 8, 
            "cell_type": "code", 
            "metadata": {}, 
            "outputs": [
                {
                    "execution_count": 8, 
                    "metadata": {}, 
                    "data": {
                        "text/plain": "(103, 3)"
                    }, 
                    "output_type": "execute_result"
                }
            ], 
            "source": "df = toronto.groupby(['Postalcode','Borough'])['Neighborhood'].apply(', '.join).reset_index()\ndf.shape"
        }, 
        {
            "execution_count": null, 
            "cell_type": "code", 
            "metadata": {}, 
            "outputs": [], 
            "source": ""
        }
    ], 
    "metadata": {
        "kernelspec": {
            "display_name": "Python 3.5", 
            "name": "python3", 
            "language": "python"
        }, 
        "language_info": {
            "mimetype": "text/x-python", 
            "nbconvert_exporter": "python", 
            "version": "3.5.5", 
            "name": "python", 
            "file_extension": ".py", 
            "pygments_lexer": "ipython3", 
            "codemirror_mode": {
                "version": 3, 
                "name": "ipython"
            }
        }
    }, 
    "nbformat": 4
}